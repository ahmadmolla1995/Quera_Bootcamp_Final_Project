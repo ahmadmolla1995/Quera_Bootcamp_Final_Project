{
  "nbformat": 4,
  "nbformat_minor": 0,
  "metadata": {
    "colab": {
      "provenance": []
    },
    "kernelspec": {
      "name": "python3",
      "display_name": "Python 3"
    },
    "language_info": {
      "name": "python"
    }
  },
  "cells": [
    {
      "cell_type": "code",
      "execution_count": null,
      "metadata": {
        "id": "DoyCaGr6QSDg"
      },
      "outputs": [],
      "source": [
        "!gdown --id 1-AlW7oNJHaqi3xk_9dWHUS52Dzl_FmFW"
      ]
    },
    {
      "cell_type": "code",
      "source": [
        "!gdown --id 1-8TsrqTRFP-q9TM-6HinhO0ZVXFHq9TB"
      ],
      "metadata": {
        "id": "3Tdcws5rQsuH"
      },
      "execution_count": null,
      "outputs": []
    },
    {
      "cell_type": "code",
      "source": [
        "from google.colab import drive\n",
        "drive.mount('/content/drive/')"
      ],
      "metadata": {
        "id": "A_f51ygLoIJG",
        "colab": {
          "base_uri": "https://localhost:8080/"
        },
        "outputId": "7bd558e0-3c91-4b2e-e470-39b55c6a64a4"
      },
      "execution_count": 31,
      "outputs": [
        {
          "output_type": "stream",
          "name": "stdout",
          "text": [
            "Drive already mounted at /content/drive/; to attempt to forcibly remount, call drive.mount(\"/content/drive/\", force_remount=True).\n"
          ]
        }
      ]
    },
    {
      "cell_type": "code",
      "source": [
        "import pandas as pd\n",
        "import numpy as np"
      ],
      "metadata": {
        "id": "ym1Fc8aoX5EO"
      },
      "execution_count": 32,
      "outputs": []
    },
    {
      "cell_type": "code",
      "source": [
        "import os\n",
        "\n",
        "# Define the folder path\n",
        "folder_path = '/content/drive/MyDrive/bootcamp/data'\n",
        "\n",
        "# Create the folder if it doesn't already exist\n",
        "os.makedirs(folder_path, exist_ok=True)"
      ],
      "metadata": {
        "id": "O6REvVhbSPDz"
      },
      "execution_count": 33,
      "outputs": []
    },
    {
      "cell_type": "code",
      "source": [
        "import shutil\n",
        "\n",
        "# Move train_data.csv\n",
        "shutil.move('/content/train_data.csv', f'{folder_path}/train_data.csv')\n",
        "\n",
        "# Move test_data.csv\n",
        "shutil.move('/content/test_data.csv', f'{folder_path}/test_data.csv')"
      ],
      "metadata": {
        "id": "CUUUmm34XGUR"
      },
      "execution_count": null,
      "outputs": []
    },
    {
      "cell_type": "code",
      "source": [
        "train_data_path = f'{folder_path}/train_data.csv'\n",
        "test_data_path = f'{folder_path}/test_data.csv'\n",
        "\n",
        "train_data = pd.read_csv(train_data_path)\n",
        "test_data = pd.read_csv(test_data_path)"
      ],
      "metadata": {
        "id": "vRi8ox18XIU-",
        "colab": {
          "base_uri": "https://localhost:8080/"
        },
        "outputId": "966c8d68-64b2-47de-ae2d-561c86d04e3d"
      },
      "execution_count": 34,
      "outputs": [
        {
          "output_type": "stream",
          "name": "stderr",
          "text": [
            "<ipython-input-34-e081c316124a>:4: DtypeWarning: Columns (1) have mixed types. Specify dtype option on import or set low_memory=False.\n",
            "  train_data = pd.read_csv(train_data_path)\n"
          ]
        }
      ]
    },
    {
      "cell_type": "code",
      "source": [
        "train_data.head()"
      ],
      "metadata": {
        "id": "iB_64RT3psfT",
        "colab": {
          "base_uri": "https://localhost:8080/",
          "height": 345
        },
        "outputId": "2ab68b27-0dbf-44d5-99df-7e9b7a982807"
      },
      "execution_count": 35,
      "outputs": [
        {
          "output_type": "execute_result",
          "data": {
            "text/plain": [
              "   overall vote  verified  reviewTime      reviewerID        asin style  \\\n",
              "0        2  NaN     False  2016-11-11   A2OSUEZJIN7BI  0511189877   NaN   \n",
              "1        5  NaN      True  2016-06-06  A2NETQRG6JHIG7  0511189877   NaN   \n",
              "2        4  NaN      True  2016-03-10  A12JHGROAX49G7  0511189877   NaN   \n",
              "3        5  NaN      True  2016-01-14  A1KV65E2TMMG6F  0511189877   NaN   \n",
              "4        5  NaN      True  2016-10-20  A280POPEWI0NSA  0594459451   NaN   \n",
              "\n",
              "    reviewerName                                         reviewText  \\\n",
              "0          Chris  I have an older URC-WR7 remote and thought thi...   \n",
              "1   Qrysta White  First time I've EVER had a remote that needed ...   \n",
              "2        Linwood  Got them and only 2 of them worked. company ca...   \n",
              "3  Dane Williams  I got tired of the remote being on the wrong s...   \n",
              "4    Kristina H.  After purchasing cheap cords from another webs...   \n",
              "\n",
              "                               summary  unixReviewTime  \n",
              "0                         Cannot Learn      1478822400  \n",
              "1  zero programming needed!  Miracle!?      1465171200  \n",
              "2        Works Good and programs easy.      1457568000  \n",
              "3                   Same as TWC remote      1452729600  \n",
              "4                    Good Quality Cord      1476921600  "
            ],
            "text/html": [
              "\n",
              "  <div id=\"df-b9fed5d0-5496-4823-b9a1-f17d095f9d87\" class=\"colab-df-container\">\n",
              "    <div>\n",
              "<style scoped>\n",
              "    .dataframe tbody tr th:only-of-type {\n",
              "        vertical-align: middle;\n",
              "    }\n",
              "\n",
              "    .dataframe tbody tr th {\n",
              "        vertical-align: top;\n",
              "    }\n",
              "\n",
              "    .dataframe thead th {\n",
              "        text-align: right;\n",
              "    }\n",
              "</style>\n",
              "<table border=\"1\" class=\"dataframe\">\n",
              "  <thead>\n",
              "    <tr style=\"text-align: right;\">\n",
              "      <th></th>\n",
              "      <th>overall</th>\n",
              "      <th>vote</th>\n",
              "      <th>verified</th>\n",
              "      <th>reviewTime</th>\n",
              "      <th>reviewerID</th>\n",
              "      <th>asin</th>\n",
              "      <th>style</th>\n",
              "      <th>reviewerName</th>\n",
              "      <th>reviewText</th>\n",
              "      <th>summary</th>\n",
              "      <th>unixReviewTime</th>\n",
              "    </tr>\n",
              "  </thead>\n",
              "  <tbody>\n",
              "    <tr>\n",
              "      <th>0</th>\n",
              "      <td>2</td>\n",
              "      <td>NaN</td>\n",
              "      <td>False</td>\n",
              "      <td>2016-11-11</td>\n",
              "      <td>A2OSUEZJIN7BI</td>\n",
              "      <td>0511189877</td>\n",
              "      <td>NaN</td>\n",
              "      <td>Chris</td>\n",
              "      <td>I have an older URC-WR7 remote and thought thi...</td>\n",
              "      <td>Cannot Learn</td>\n",
              "      <td>1478822400</td>\n",
              "    </tr>\n",
              "    <tr>\n",
              "      <th>1</th>\n",
              "      <td>5</td>\n",
              "      <td>NaN</td>\n",
              "      <td>True</td>\n",
              "      <td>2016-06-06</td>\n",
              "      <td>A2NETQRG6JHIG7</td>\n",
              "      <td>0511189877</td>\n",
              "      <td>NaN</td>\n",
              "      <td>Qrysta White</td>\n",
              "      <td>First time I've EVER had a remote that needed ...</td>\n",
              "      <td>zero programming needed!  Miracle!?</td>\n",
              "      <td>1465171200</td>\n",
              "    </tr>\n",
              "    <tr>\n",
              "      <th>2</th>\n",
              "      <td>4</td>\n",
              "      <td>NaN</td>\n",
              "      <td>True</td>\n",
              "      <td>2016-03-10</td>\n",
              "      <td>A12JHGROAX49G7</td>\n",
              "      <td>0511189877</td>\n",
              "      <td>NaN</td>\n",
              "      <td>Linwood</td>\n",
              "      <td>Got them and only 2 of them worked. company ca...</td>\n",
              "      <td>Works Good and programs easy.</td>\n",
              "      <td>1457568000</td>\n",
              "    </tr>\n",
              "    <tr>\n",
              "      <th>3</th>\n",
              "      <td>5</td>\n",
              "      <td>NaN</td>\n",
              "      <td>True</td>\n",
              "      <td>2016-01-14</td>\n",
              "      <td>A1KV65E2TMMG6F</td>\n",
              "      <td>0511189877</td>\n",
              "      <td>NaN</td>\n",
              "      <td>Dane Williams</td>\n",
              "      <td>I got tired of the remote being on the wrong s...</td>\n",
              "      <td>Same as TWC remote</td>\n",
              "      <td>1452729600</td>\n",
              "    </tr>\n",
              "    <tr>\n",
              "      <th>4</th>\n",
              "      <td>5</td>\n",
              "      <td>NaN</td>\n",
              "      <td>True</td>\n",
              "      <td>2016-10-20</td>\n",
              "      <td>A280POPEWI0NSA</td>\n",
              "      <td>0594459451</td>\n",
              "      <td>NaN</td>\n",
              "      <td>Kristina H.</td>\n",
              "      <td>After purchasing cheap cords from another webs...</td>\n",
              "      <td>Good Quality Cord</td>\n",
              "      <td>1476921600</td>\n",
              "    </tr>\n",
              "  </tbody>\n",
              "</table>\n",
              "</div>\n",
              "    <div class=\"colab-df-buttons\">\n",
              "\n",
              "  <div class=\"colab-df-container\">\n",
              "    <button class=\"colab-df-convert\" onclick=\"convertToInteractive('df-b9fed5d0-5496-4823-b9a1-f17d095f9d87')\"\n",
              "            title=\"Convert this dataframe to an interactive table.\"\n",
              "            style=\"display:none;\">\n",
              "\n",
              "  <svg xmlns=\"http://www.w3.org/2000/svg\" height=\"24px\" viewBox=\"0 -960 960 960\">\n",
              "    <path d=\"M120-120v-720h720v720H120Zm60-500h600v-160H180v160Zm220 220h160v-160H400v160Zm0 220h160v-160H400v160ZM180-400h160v-160H180v160Zm440 0h160v-160H620v160ZM180-180h160v-160H180v160Zm440 0h160v-160H620v160Z\"/>\n",
              "  </svg>\n",
              "    </button>\n",
              "\n",
              "  <style>\n",
              "    .colab-df-container {\n",
              "      display:flex;\n",
              "      gap: 12px;\n",
              "    }\n",
              "\n",
              "    .colab-df-convert {\n",
              "      background-color: #E8F0FE;\n",
              "      border: none;\n",
              "      border-radius: 50%;\n",
              "      cursor: pointer;\n",
              "      display: none;\n",
              "      fill: #1967D2;\n",
              "      height: 32px;\n",
              "      padding: 0 0 0 0;\n",
              "      width: 32px;\n",
              "    }\n",
              "\n",
              "    .colab-df-convert:hover {\n",
              "      background-color: #E2EBFA;\n",
              "      box-shadow: 0px 1px 2px rgba(60, 64, 67, 0.3), 0px 1px 3px 1px rgba(60, 64, 67, 0.15);\n",
              "      fill: #174EA6;\n",
              "    }\n",
              "\n",
              "    .colab-df-buttons div {\n",
              "      margin-bottom: 4px;\n",
              "    }\n",
              "\n",
              "    [theme=dark] .colab-df-convert {\n",
              "      background-color: #3B4455;\n",
              "      fill: #D2E3FC;\n",
              "    }\n",
              "\n",
              "    [theme=dark] .colab-df-convert:hover {\n",
              "      background-color: #434B5C;\n",
              "      box-shadow: 0px 1px 3px 1px rgba(0, 0, 0, 0.15);\n",
              "      filter: drop-shadow(0px 1px 2px rgba(0, 0, 0, 0.3));\n",
              "      fill: #FFFFFF;\n",
              "    }\n",
              "  </style>\n",
              "\n",
              "    <script>\n",
              "      const buttonEl =\n",
              "        document.querySelector('#df-b9fed5d0-5496-4823-b9a1-f17d095f9d87 button.colab-df-convert');\n",
              "      buttonEl.style.display =\n",
              "        google.colab.kernel.accessAllowed ? 'block' : 'none';\n",
              "\n",
              "      async function convertToInteractive(key) {\n",
              "        const element = document.querySelector('#df-b9fed5d0-5496-4823-b9a1-f17d095f9d87');\n",
              "        const dataTable =\n",
              "          await google.colab.kernel.invokeFunction('convertToInteractive',\n",
              "                                                    [key], {});\n",
              "        if (!dataTable) return;\n",
              "\n",
              "        const docLinkHtml = 'Like what you see? Visit the ' +\n",
              "          '<a target=\"_blank\" href=https://colab.research.google.com/notebooks/data_table.ipynb>data table notebook</a>'\n",
              "          + ' to learn more about interactive tables.';\n",
              "        element.innerHTML = '';\n",
              "        dataTable['output_type'] = 'display_data';\n",
              "        await google.colab.output.renderOutput(dataTable, element);\n",
              "        const docLink = document.createElement('div');\n",
              "        docLink.innerHTML = docLinkHtml;\n",
              "        element.appendChild(docLink);\n",
              "      }\n",
              "    </script>\n",
              "  </div>\n",
              "\n",
              "\n",
              "<div id=\"df-6c09f721-66cc-4c75-8819-f5e7bcd81f50\">\n",
              "  <button class=\"colab-df-quickchart\" onclick=\"quickchart('df-6c09f721-66cc-4c75-8819-f5e7bcd81f50')\"\n",
              "            title=\"Suggest charts\"\n",
              "            style=\"display:none;\">\n",
              "\n",
              "<svg xmlns=\"http://www.w3.org/2000/svg\" height=\"24px\"viewBox=\"0 0 24 24\"\n",
              "     width=\"24px\">\n",
              "    <g>\n",
              "        <path d=\"M19 3H5c-1.1 0-2 .9-2 2v14c0 1.1.9 2 2 2h14c1.1 0 2-.9 2-2V5c0-1.1-.9-2-2-2zM9 17H7v-7h2v7zm4 0h-2V7h2v10zm4 0h-2v-4h2v4z\"/>\n",
              "    </g>\n",
              "</svg>\n",
              "  </button>\n",
              "\n",
              "<style>\n",
              "  .colab-df-quickchart {\n",
              "      --bg-color: #E8F0FE;\n",
              "      --fill-color: #1967D2;\n",
              "      --hover-bg-color: #E2EBFA;\n",
              "      --hover-fill-color: #174EA6;\n",
              "      --disabled-fill-color: #AAA;\n",
              "      --disabled-bg-color: #DDD;\n",
              "  }\n",
              "\n",
              "  [theme=dark] .colab-df-quickchart {\n",
              "      --bg-color: #3B4455;\n",
              "      --fill-color: #D2E3FC;\n",
              "      --hover-bg-color: #434B5C;\n",
              "      --hover-fill-color: #FFFFFF;\n",
              "      --disabled-bg-color: #3B4455;\n",
              "      --disabled-fill-color: #666;\n",
              "  }\n",
              "\n",
              "  .colab-df-quickchart {\n",
              "    background-color: var(--bg-color);\n",
              "    border: none;\n",
              "    border-radius: 50%;\n",
              "    cursor: pointer;\n",
              "    display: none;\n",
              "    fill: var(--fill-color);\n",
              "    height: 32px;\n",
              "    padding: 0;\n",
              "    width: 32px;\n",
              "  }\n",
              "\n",
              "  .colab-df-quickchart:hover {\n",
              "    background-color: var(--hover-bg-color);\n",
              "    box-shadow: 0 1px 2px rgba(60, 64, 67, 0.3), 0 1px 3px 1px rgba(60, 64, 67, 0.15);\n",
              "    fill: var(--button-hover-fill-color);\n",
              "  }\n",
              "\n",
              "  .colab-df-quickchart-complete:disabled,\n",
              "  .colab-df-quickchart-complete:disabled:hover {\n",
              "    background-color: var(--disabled-bg-color);\n",
              "    fill: var(--disabled-fill-color);\n",
              "    box-shadow: none;\n",
              "  }\n",
              "\n",
              "  .colab-df-spinner {\n",
              "    border: 2px solid var(--fill-color);\n",
              "    border-color: transparent;\n",
              "    border-bottom-color: var(--fill-color);\n",
              "    animation:\n",
              "      spin 1s steps(1) infinite;\n",
              "  }\n",
              "\n",
              "  @keyframes spin {\n",
              "    0% {\n",
              "      border-color: transparent;\n",
              "      border-bottom-color: var(--fill-color);\n",
              "      border-left-color: var(--fill-color);\n",
              "    }\n",
              "    20% {\n",
              "      border-color: transparent;\n",
              "      border-left-color: var(--fill-color);\n",
              "      border-top-color: var(--fill-color);\n",
              "    }\n",
              "    30% {\n",
              "      border-color: transparent;\n",
              "      border-left-color: var(--fill-color);\n",
              "      border-top-color: var(--fill-color);\n",
              "      border-right-color: var(--fill-color);\n",
              "    }\n",
              "    40% {\n",
              "      border-color: transparent;\n",
              "      border-right-color: var(--fill-color);\n",
              "      border-top-color: var(--fill-color);\n",
              "    }\n",
              "    60% {\n",
              "      border-color: transparent;\n",
              "      border-right-color: var(--fill-color);\n",
              "    }\n",
              "    80% {\n",
              "      border-color: transparent;\n",
              "      border-right-color: var(--fill-color);\n",
              "      border-bottom-color: var(--fill-color);\n",
              "    }\n",
              "    90% {\n",
              "      border-color: transparent;\n",
              "      border-bottom-color: var(--fill-color);\n",
              "    }\n",
              "  }\n",
              "</style>\n",
              "\n",
              "  <script>\n",
              "    async function quickchart(key) {\n",
              "      const quickchartButtonEl =\n",
              "        document.querySelector('#' + key + ' button');\n",
              "      quickchartButtonEl.disabled = true;  // To prevent multiple clicks.\n",
              "      quickchartButtonEl.classList.add('colab-df-spinner');\n",
              "      try {\n",
              "        const charts = await google.colab.kernel.invokeFunction(\n",
              "            'suggestCharts', [key], {});\n",
              "      } catch (error) {\n",
              "        console.error('Error during call to suggestCharts:', error);\n",
              "      }\n",
              "      quickchartButtonEl.classList.remove('colab-df-spinner');\n",
              "      quickchartButtonEl.classList.add('colab-df-quickchart-complete');\n",
              "    }\n",
              "    (() => {\n",
              "      let quickchartButtonEl =\n",
              "        document.querySelector('#df-6c09f721-66cc-4c75-8819-f5e7bcd81f50 button');\n",
              "      quickchartButtonEl.style.display =\n",
              "        google.colab.kernel.accessAllowed ? 'block' : 'none';\n",
              "    })();\n",
              "  </script>\n",
              "</div>\n",
              "    </div>\n",
              "  </div>\n"
            ],
            "application/vnd.google.colaboratory.intrinsic+json": {
              "type": "dataframe",
              "variable_name": "train_data"
            }
          },
          "metadata": {},
          "execution_count": 35
        }
      ]
    },
    {
      "cell_type": "code",
      "source": [
        "train_data.shape"
      ],
      "metadata": {
        "id": "w-nMEeJPro26",
        "colab": {
          "base_uri": "https://localhost:8080/"
        },
        "outputId": "15cd2904-a8eb-4adb-bebb-8a800f75f754"
      },
      "execution_count": 36,
      "outputs": [
        {
          "output_type": "execute_result",
          "data": {
            "text/plain": [
              "(838944, 11)"
            ]
          },
          "metadata": {},
          "execution_count": 36
        }
      ]
    },
    {
      "cell_type": "code",
      "source": [
        "train_data['reviewText'][0]"
      ],
      "metadata": {
        "id": "x4L6LWhjX8fU",
        "colab": {
          "base_uri": "https://localhost:8080/",
          "height": 87
        },
        "outputId": "499f73cc-ec8e-44cb-848c-d736dabb6fa1"
      },
      "execution_count": 37,
      "outputs": [
        {
          "output_type": "execute_result",
          "data": {
            "text/plain": [
              "\"I have an older URC-WR7 remote and thought this would be an upgrade (and because TWC stuck me with it), but this one fails where the other one didn't.  The old remote could go head to head and learn.  I have 2 different Blu Ray players (LG & Panasonic) and this one fails on both.  It cannot learn buttons.  The biggest problem is in streaming when I need to hit the blue, red, yellow, green buttons.  These cannot work either of them, so I have to pull out the remote for that one setting.  I don't know why they give you multiple code methods but no learning.\""
            ],
            "application/vnd.google.colaboratory.intrinsic+json": {
              "type": "string"
            }
          },
          "metadata": {},
          "execution_count": 37
        }
      ]
    },
    {
      "cell_type": "code",
      "source": [
        "train_data.info()"
      ],
      "metadata": {
        "id": "8VClEh2DYKm4",
        "colab": {
          "base_uri": "https://localhost:8080/"
        },
        "outputId": "ab2e16de-614a-44ae-d74b-ffce668c9f54"
      },
      "execution_count": 38,
      "outputs": [
        {
          "output_type": "stream",
          "name": "stdout",
          "text": [
            "<class 'pandas.core.frame.DataFrame'>\n",
            "RangeIndex: 838944 entries, 0 to 838943\n",
            "Data columns (total 11 columns):\n",
            " #   Column          Non-Null Count   Dtype \n",
            "---  ------          --------------   ----- \n",
            " 0   overall         838944 non-null  int64 \n",
            " 1   vote            191468 non-null  object\n",
            " 2   verified        838944 non-null  bool  \n",
            " 3   reviewTime      838944 non-null  object\n",
            " 4   reviewerID      838944 non-null  object\n",
            " 5   asin            838944 non-null  object\n",
            " 6   style           490613 non-null  object\n",
            " 7   reviewerName    838717 non-null  object\n",
            " 8   reviewText      838944 non-null  object\n",
            " 9   summary         838868 non-null  object\n",
            " 10  unixReviewTime  838944 non-null  int64 \n",
            "dtypes: bool(1), int64(2), object(8)\n",
            "memory usage: 64.8+ MB\n"
          ]
        }
      ]
    },
    {
      "cell_type": "code",
      "source": [
        "train_data['reviewText'] = train_data['reviewText'].str.lower().str.strip()\n",
        "train_data['summary'] = train_data['summary'].str.lower().str.strip()\n",
        "\n",
        "test_data['reviewText'] = test_data['reviewText'].str.lower().str.strip()\n",
        "test_data['summary'] = test_data['summary'].str.lower().str.strip()"
      ],
      "metadata": {
        "id": "tERgiWonbpCZ"
      },
      "execution_count": 39,
      "outputs": []
    },
    {
      "cell_type": "code",
      "source": [
        "import re\n",
        "\n",
        "# Define a regex pattern that removes all punctuation except for ?! and .\n",
        "pattern = r'[^a-zA-Z0-9\\s?!\\.]'\n",
        "\n",
        "# Apply this to the reviewText and summary columns, with a check for string type\n",
        "train_data['reviewText'] = train_data['reviewText'].apply(lambda x: re.sub(pattern, '', x) if isinstance(x, str) else x)\n",
        "train_data['summary'] = train_data['summary'].apply(lambda x: re.sub(pattern, '', x) if isinstance(x, str) else x)\n",
        "\n",
        "# Assuming you have a similar structure for test_data\n",
        "test_data['reviewText'] = test_data['reviewText'].apply(lambda x: re.sub(pattern, '', x) if isinstance(x, str) else x)\n",
        "test_data['summary'] = test_data['summary'].apply(lambda x: re.sub(pattern, '', x) if isinstance(x, str) else x)"
      ],
      "metadata": {
        "id": "1tqDB9jLcEPi"
      },
      "execution_count": 40,
      "outputs": []
    },
    {
      "cell_type": "code",
      "source": [
        "!pip install textblob"
      ],
      "metadata": {
        "id": "rxxQs4c7cRTQ",
        "colab": {
          "base_uri": "https://localhost:8080/"
        },
        "outputId": "3a5d1144-2b26-400b-f98e-bbbd5f41d8bd"
      },
      "execution_count": 41,
      "outputs": [
        {
          "output_type": "stream",
          "name": "stdout",
          "text": [
            "Requirement already satisfied: textblob in /usr/local/lib/python3.10/dist-packages (0.17.1)\n",
            "Requirement already satisfied: nltk>=3.1 in /usr/local/lib/python3.10/dist-packages (from textblob) (3.8.1)\n",
            "Requirement already satisfied: click in /usr/local/lib/python3.10/dist-packages (from nltk>=3.1->textblob) (8.1.7)\n",
            "Requirement already satisfied: joblib in /usr/local/lib/python3.10/dist-packages (from nltk>=3.1->textblob) (1.4.2)\n",
            "Requirement already satisfied: regex>=2021.8.3 in /usr/local/lib/python3.10/dist-packages (from nltk>=3.1->textblob) (2024.9.11)\n",
            "Requirement already satisfied: tqdm in /usr/local/lib/python3.10/dist-packages (from nltk>=3.1->textblob) (4.66.5)\n"
          ]
        }
      ]
    },
    {
      "cell_type": "code",
      "source": [
        "from textblob import TextBlob\n",
        "\n",
        "def correct_spelling(text):\n",
        "    return str(TextBlob(text).correct())\n",
        "\n",
        "train_data['reviewText'] = train_data['reviewText'].apply(correct_spelling)\n",
        "train_data['summary'] = train_data['summary'].apply(correct_spelling)\n",
        "\n",
        "test_data['reviewText'] = test_data['reviewText'].apply(correct_spelling)\n",
        "test_data['summary'] = test_data['summary'].apply(correct_spelling)"
      ],
      "metadata": {
        "id": "teMVyM6BcpRG"
      },
      "execution_count": null,
      "outputs": []
    },
    {
      "cell_type": "code",
      "source": [
        "!pip install symspellpy"
      ],
      "metadata": {
        "id": "6Mn0t0APDUYE",
        "colab": {
          "base_uri": "https://localhost:8080/"
        },
        "outputId": "ebc5fa31-066d-423d-fa00-a07ecf0a7e2d"
      },
      "execution_count": 42,
      "outputs": [
        {
          "output_type": "stream",
          "name": "stdout",
          "text": [
            "Requirement already satisfied: symspellpy in /usr/local/lib/python3.10/dist-packages (6.7.8)\n",
            "Requirement already satisfied: editdistpy>=0.1.3 in /usr/local/lib/python3.10/dist-packages (from symspellpy) (0.1.5)\n"
          ]
        }
      ]
    },
    {
      "cell_type": "code",
      "source": [
        "import pkg_resources\n",
        "from symspellpy import SymSpell, Verbosity"
      ],
      "metadata": {
        "id": "VnNBL2jlDshR"
      },
      "execution_count": 43,
      "outputs": []
    },
    {
      "cell_type": "code",
      "source": [
        "dictionary_path = pkg_resources.resource_filename(\"symspellpy\", \"frequency_dictionary_en_82_765.txt\")\n",
        "\n",
        "sym_spell = SymSpell(max_dictionary_edit_distance=2, prefix_length=7)\n",
        "sym_spell.load_dictionary(dictionary_path, term_index=0, count_index=1)\n",
        "\n",
        "input_term = \"memebers\"\n",
        "\n",
        "suggestions = sym_spell.lookup(input_term, Verbosity.CLOSEST, max_edit_distance=2)\n",
        "for suggestion in suggestions:\n",
        "    print(suggestion)"
      ],
      "metadata": {
        "id": "Hs1JZQZaDzmj",
        "colab": {
          "base_uri": "https://localhost:8080/"
        },
        "outputId": "131dd6c5-9891-4fa2-ef19-51ff83aba194"
      },
      "execution_count": 44,
      "outputs": [
        {
          "output_type": "stream",
          "name": "stdout",
          "text": [
            "members, 1, 226656153\n"
          ]
        }
      ]
    },
    {
      "cell_type": "code",
      "source": [
        "from operator import attrgetter\n",
        "\n",
        "dictionary_cache = []\n",
        "\n",
        "\n",
        "def find_nearest_word_in_dict(word):\n",
        "    word = word.lower()\n",
        "\n",
        "    if word in dictionary_cache:\n",
        "        return word\n",
        "\n",
        "    original_word = sym_spell.lookup(word, Verbosity.CLOSEST, max_edit_distance=0)\n",
        "\n",
        "    if original_word:\n",
        "        dictionary_cache.append(original_word[0].term)\n",
        "        return original_word[0].term\n",
        "    else:\n",
        "        suggestions = sym_spell.lookup(word, Verbosity.CLOSEST, max_edit_distance=2, include_unknown=True)\n",
        "        suggestions = sorted(suggestions, key=attrgetter('distance'))\n",
        "\n",
        "        min_distance = suggestions[0].distance\n",
        "        nearest_word = max([s for s in suggestions if s.distance == min_distance], key=attrgetter('count'))\n",
        "\n",
        "        dictionary_cache.append(nearest_word.term)\n",
        "\n",
        "        return nearest_word.term"
      ],
      "metadata": {
        "id": "4rkwE9gzEYDU"
      },
      "execution_count": 45,
      "outputs": []
    },
    {
      "cell_type": "code",
      "source": [
        "sample_sentence = train_data['reviewText'][9]\n",
        "sample_sentence"
      ],
      "metadata": {
        "id": "OKoqoIkvCX3o",
        "colab": {
          "base_uri": "https://localhost:8080/",
          "height": 53
        },
        "outputId": "8d99b1ef-5acf-4318-84c0-1225ebf0ad3e"
      },
      "execution_count": 46,
      "outputs": [
        {
          "output_type": "execute_result",
          "data": {
            "text/plain": [
              "'brand name adapter this is just like the one you got when you bought your nook. i would always recommend using a designated adapter. the charging cable is a whole different story but the adapter defiantly use the designated charger.'"
            ],
            "application/vnd.google.colaboratory.intrinsic+json": {
              "type": "string"
            }
          },
          "metadata": {},
          "execution_count": 46
        }
      ]
    },
    {
      "cell_type": "code",
      "source": [
        "tokens = sample_sentence.split()\n",
        "tokens"
      ],
      "metadata": {
        "id": "s40PiPFxKc-3",
        "colab": {
          "base_uri": "https://localhost:8080/"
        },
        "outputId": "7e542da5-215f-406b-c7be-562c8a1a503b"
      },
      "execution_count": 47,
      "outputs": [
        {
          "output_type": "execute_result",
          "data": {
            "text/plain": [
              "['brand',\n",
              " 'name',\n",
              " 'adapter',\n",
              " 'this',\n",
              " 'is',\n",
              " 'just',\n",
              " 'like',\n",
              " 'the',\n",
              " 'one',\n",
              " 'you',\n",
              " 'got',\n",
              " 'when',\n",
              " 'you',\n",
              " 'bought',\n",
              " 'your',\n",
              " 'nook.',\n",
              " 'i',\n",
              " 'would',\n",
              " 'always',\n",
              " 'recommend',\n",
              " 'using',\n",
              " 'a',\n",
              " 'designated',\n",
              " 'adapter.',\n",
              " 'the',\n",
              " 'charging',\n",
              " 'cable',\n",
              " 'is',\n",
              " 'a',\n",
              " 'whole',\n",
              " 'different',\n",
              " 'story',\n",
              " 'but',\n",
              " 'the',\n",
              " 'adapter',\n",
              " 'defiantly',\n",
              " 'use',\n",
              " 'the',\n",
              " 'designated',\n",
              " 'charger.']"
            ]
          },
          "metadata": {},
          "execution_count": 47
        }
      ]
    },
    {
      "cell_type": "code",
      "source": [
        "corrected_tokens = []\n",
        "\n",
        "for t in tokens:\n",
        "    nearest = find_nearest_word_in_dict(t)\n",
        "    corrected_tokens.append(nearest)"
      ],
      "metadata": {
        "id": "P1I_GIaWFtlb"
      },
      "execution_count": 48,
      "outputs": []
    },
    {
      "cell_type": "markdown",
      "source": [
        "### Mis-spelling correction example"
      ],
      "metadata": {
        "id": "LcT_lQejKEmo"
      }
    },
    {
      "cell_type": "code",
      "source": [
        "for t, c in zip(tokens, corrected_tokens):\n",
        "    print(t, c)"
      ],
      "metadata": {
        "id": "wrUJHx2NIZ4G",
        "colab": {
          "base_uri": "https://localhost:8080/"
        },
        "outputId": "b1285bc0-d44f-423f-fc28-26293b8191b0"
      },
      "execution_count": 49,
      "outputs": [
        {
          "output_type": "stream",
          "name": "stdout",
          "text": [
            "brand brand\n",
            "name name\n",
            "adapter adapter\n",
            "this this\n",
            "is is\n",
            "just just\n",
            "like like\n",
            "the the\n",
            "one one\n",
            "you you\n",
            "got got\n",
            "when when\n",
            "you you\n",
            "bought bought\n",
            "your your\n",
            "nook. nook\n",
            "i i\n",
            "would would\n",
            "always always\n",
            "recommend recommend\n",
            "using using\n",
            "a a\n",
            "designated designated\n",
            "adapter. adapter\n",
            "the the\n",
            "charging charging\n",
            "cable cable\n",
            "is is\n",
            "a a\n",
            "whole whole\n",
            "different different\n",
            "story story\n",
            "but but\n",
            "the the\n",
            "adapter adapter\n",
            "defiantly defiantly\n",
            "use use\n",
            "the the\n",
            "designated designated\n",
            "charger. charger\n"
          ]
        }
      ]
    },
    {
      "cell_type": "code",
      "source": [
        "def correct_spelling_symspell(sentence):\n",
        "    tokens = sentence.split()\n",
        "    corrected_tokens = list(map(find_nearest_word_in_dict, tokens))\n",
        "\n",
        "    return ' '.join(corrected_tokens)"
      ],
      "metadata": {
        "id": "1md7Kb98I2mz"
      },
      "execution_count": 68,
      "outputs": []
    },
    {
      "cell_type": "code",
      "source": [
        "corrected_sentence = correct_spelling_symspell(sample_sentence)\n",
        "\n",
        "print('main sentence: {}'.format(sample_sentence))\n",
        "print('corrected sentence: {}'.format(corrected_sentence))"
      ],
      "metadata": {
        "id": "f3c7NzUdLST1",
        "colab": {
          "base_uri": "https://localhost:8080/"
        },
        "outputId": "bc119843-7bc3-4a7f-8bd8-f4c2ee576f01"
      },
      "execution_count": 69,
      "outputs": [
        {
          "output_type": "stream",
          "name": "stdout",
          "text": [
            "main sentence: brand name adapter this is just like the one you got when you bought your nook. i would always recommend using a designated adapter. the charging cable is a whole different story but the adapter defiantly use the designated charger.\n",
            "corrected sentence: brand name adapter this is just like the one you got when you bought your nook i would always recommend using a designated adapter the charging cable is a whole different story but the adapter defiantly use the designated charger\n"
          ]
        }
      ]
    },
    {
      "cell_type": "code",
      "source": [
        "dictionary_cache = []\n",
        "\n",
        "for i in range(100):\n",
        "    print(i)\n",
        "    result = correct_spelling_symspell(train_data['reviewText'][i])"
      ],
      "metadata": {
        "id": "7V7NtUo0LaH0"
      },
      "execution_count": null,
      "outputs": []
    }
  ]
}